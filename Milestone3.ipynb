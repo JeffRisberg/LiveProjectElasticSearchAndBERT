{
 "cells": [
  {
   "cell_type": "code",
   "execution_count": 1,
   "metadata": {},
   "outputs": [],
   "source": [
    "#import dependancies\n",
    "import json\n",
    "from elasticsearch import Elasticsearch, helpers"
   ]
  },
  {
   "cell_type": "code",
   "execution_count": 2,
   "metadata": {},
   "outputs": [],
   "source": [
    "#initialize Elasticsearch client\n",
    "client = Elasticsearch()"
   ]
  },
  {
   "cell_type": "code",
   "execution_count": 3,
   "metadata": {},
   "outputs": [
    {
     "name": "stderr",
     "output_type": "stream",
     "text": [
      "/usr/local/lib/python3.8/site-packages/elasticsearch/connection/base.py:200: ElasticsearchWarning: Elasticsearch built-in security features are not enabled. Without authentication, your cluster could be accessible to anyone. See https://www.elastic.co/guide/en/elasticsearch/reference/7.16/security-minimal-setup.html to enable security.\n",
      "  warnings.warn(message, category=ElasticsearchWarning)\n"
     ]
    },
    {
     "data": {
      "text/plain": [
       "{'hits': {'hits': [{'_type': '_doc', '_id': 'MB0Z_H4BR8yRQYoutRND'},\n",
       "   {'_type': '_doc', '_id': 'MR0Z_H4BR8yRQYoutRND'},\n",
       "   {'_type': '_doc', '_id': 'Mh0Z_H4BR8yRQYoutRND'},\n",
       "   {'_type': '_doc', '_id': 'Mx0Z_H4BR8yRQYoutRND'},\n",
       "   {'_type': '_doc', '_id': 'NB0Z_H4BR8yRQYoutRND'},\n",
       "   {'_type': '_doc', '_id': 'NR0Z_H4BR8yRQYoutRND'},\n",
       "   {'_type': '_doc', '_id': 'Nh0Z_H4BR8yRQYoutRND'},\n",
       "   {'_type': '_doc', '_id': 'Nx0Z_H4BR8yRQYoutRND'},\n",
       "   {'_type': '_doc', '_id': 'OB0Z_H4BR8yRQYoutRND'},\n",
       "   {'_type': '_doc', '_id': 'OR0Z_H4BR8yRQYoutRND'}]}}"
      ]
     },
     "execution_count": 3,
     "metadata": {},
     "output_type": "execute_result"
    }
   ],
   "source": [
    "#query the idex called \"pandemics\".\n",
    "client.search(index='pandemics', filter_path=['hits.hits._id', 'hits.hits._type'])"
   ]
  },
  {
   "cell_type": "markdown",
   "metadata": {},
   "source": [
    "### Get 10 articles"
   ]
  },
  {
   "cell_type": "code",
   "execution_count": 4,
   "metadata": {},
   "outputs": [
    {
     "name": "stdout",
     "output_type": "stream",
     "text": [
      "Got 802 Hits:\n",
      "Pandemic Summary\n",
      "Pandemic Definition\n",
      "Pandemic Stages\n",
      "Pandemic Severity\n",
      "Pandemic Management\n",
      "Pandemic HIV/AIDS\n",
      "Pandemic COVID-19\n",
      "Pandemic Notable outbreaks\n",
      "Pandemic Cholera\n",
      "Pandemic Influenza\n"
     ]
    }
   ],
   "source": [
    "res = client.search(index=\"pandemics\", query= {\"match_all\": {}})\n",
    "print(\"Got %d Hits:\" % res['hits']['total']['value'])\n",
    "for hit in res['hits']['hits']:\n",
    "    print(\"%(article_title)s %(section_title)s\" % hit[\"_source\"])"
   ]
  },
  {
   "cell_type": "markdown",
   "metadata": {},
   "source": [
    "### Create a simple (match) query and extract the results from the nested JSON response."
   ]
  },
  {
   "cell_type": "code",
   "execution_count": 21,
   "metadata": {},
   "outputs": [
    {
     "name": "stdout",
     "output_type": "stream",
     "text": [
      "Got 76 Hits:\n",
      "HIV/AIDS Vaccination\n",
      "HIV/AIDS Vaccination\n",
      "Science diplomacy and pandemics See also\n",
      "Science diplomacy and pandemics See also\n",
      "COVID-19 pandemic Vaccine\n",
      "COVID-19 pandemic Vaccine\n",
      "Targeted immunization strategies See also\n",
      "Targeted immunization strategies See also\n",
      "Virus Vaccines\n",
      "Virus Vaccines\n",
      "Pandemic prevention Vaccination\n",
      "Pandemic prevention Vaccination\n",
      "Cholera Vaccination\n",
      "Cholera Vaccination\n",
      "Targeted immunization strategies Background\n",
      "Targeted immunization strategies Background\n",
      "Science diplomacy and pandemics Ebola\n",
      "Science diplomacy and pandemics Ebola\n",
      "HIV/AIDS Treatment\n",
      "HIV/AIDS Treatment\n",
      "COVID-19 pandemic 2020\n",
      "COVID-19 pandemic 2020\n",
      "COVID-19 pandemic United Kingdom\n",
      "COVID-19 pandemic United Kingdom\n",
      "Science diplomacy and pandemics Severe acute respiratory syndrome (SARS)\n",
      "Science diplomacy and pandemics Severe acute respiratory syndrome (SARS)\n",
      "Swine influenza 1976 U.S.\n",
      "Swine influenza 1976 U.S.\n",
      "Virus Weapons\n",
      "Virus Weapons\n",
      "Pandemic Measles\n",
      "Pandemic Measles\n",
      "Superspreading event Lack of herd immunity\n",
      "Superspreading event Lack of herd immunity\n",
      "Swine influenza Vaccination\n",
      "Swine influenza 2009 Northern Ireland\n",
      "Virus Synthetic viruses\n",
      "Swine influenza Vaccination\n",
      "Swine influenza 2009 Northern Ireland\n",
      "Virus Synthetic viruses\n",
      "Science diplomacy and pandemics Zika\n",
      "Science diplomacy and pandemics Zika\n",
      "Cholera Zambia\n",
      "Pandemic prevention Infrastructure and international development\n",
      "Cholera Zambia\n",
      "Pandemic prevention Infrastructure and international development\n",
      "HIV/AIDS Opportunistic infections\n",
      "Swine influenza Swine\n",
      "HIV/AIDS Opportunistic infections\n",
      "Swine influenza Swine\n"
     ]
    }
   ],
   "source": [
    "question = \"vaccine\"\n",
    "query = {\"match\": {\"text\": question}}\n",
    "\n",
    "res = client.search(index=\"pandemics\", query=query, size=50)\n",
    "print(\"Got %d Hits:\" % res['hits']['total']['value'])\n",
    "for hit in res['hits']['hits']:\n",
    "    print(\"%(article_title)s %(section_title)s\" % hit[\"_source\"])"
   ]
  },
  {
   "cell_type": "code",
   "execution_count": null,
   "metadata": {},
   "outputs": [],
   "source": []
  }
 ],
 "metadata": {
  "kernelspec": {
   "display_name": "Python 3",
   "language": "python",
   "name": "python3"
  },
  "language_info": {
   "codemirror_mode": {
    "name": "ipython",
    "version": 3
   },
   "file_extension": ".py",
   "mimetype": "text/x-python",
   "name": "python",
   "nbconvert_exporter": "python",
   "pygments_lexer": "ipython3",
   "version": "3.8.12"
  }
 },
 "nbformat": 4,
 "nbformat_minor": 4
}
